{
 "cells": [
  {
   "cell_type": "code",
   "execution_count": 1,
   "metadata": {},
   "outputs": [
    {
     "name": "stdout",
     "output_type": "stream",
     "text": [
      "Welcome to the Weather Forecast Application!\n",
      "Weather in Kisumu:\n",
      "Temperature: 19.43°C\n",
      "Humidity: 74%\n",
      "Wind Speed: 2.36 m/s\n"
     ]
    }
   ],
   "source": [
    "import requests\n",
    "\n",
    "# API key from OpenWeatherMap\n",
    "api_key = \"b7190a3fec5f0e345ea5380f66cf410c\"\n",
    "\n",
    "def get_weather(location):\n",
    "    try:\n",
    "        # Check if the input is a zip code or a city name\n",
    "        if location.isdigit():\n",
    "            url = f\"https://api.openweathermap.org/data/2.5/weather?zip={location}&units=metric&appid={api_key}\"\n",
    "        else:\n",
    "            url = f\"https://api.openweathermap.org/data/2.5/weather?q={location}&units=metric&appid={api_key}\"\n",
    "\n",
    "        # Make API call\n",
    "        response = requests.get(url)\n",
    "        data = response.json()\n",
    "\n",
    "        # Extract required weather information\n",
    "        if data[\"cod\"] == 200:\n",
    "            temperature = data[\"main\"][\"temp\"]\n",
    "            humidity = data[\"main\"][\"humidity\"]\n",
    "            wind_speed = data[\"wind\"][\"speed\"]\n",
    "\n",
    "            print(f\"Weather in {location}:\")\n",
    "            print(f\"Temperature: {temperature}°C\")\n",
    "            print(f\"Humidity: {humidity}%\")\n",
    "            print(f\"Wind Speed: {wind_speed} m/s\")\n",
    "        else:\n",
    "            print(\"Error:\", data[\"message\"])\n",
    "    except Exception as e:\n",
    "        print(\"An error occurred:\", e)\n",
    "\n",
    "def main():\n",
    "    print(\"Welcome to the Weather Forecast Application!\")\n",
    "    while True:\n",
    "        location = input(\"Enter a city name or zip code (or 'quit' to exit): \")\n",
    "        if location.lower() == \"quit\":\n",
    "            break\n",
    "        get_weather(location)\n",
    "\n",
    "if __name__ == \"__main__\":\n",
    "    main()\n"
   ]
  },
  {
   "cell_type": "code",
   "execution_count": null,
   "metadata": {},
   "outputs": [],
   "source": []
  }
 ],
 "metadata": {
  "kernelspec": {
   "display_name": "Python 3",
   "language": "python",
   "name": "python3"
  },
  "language_info": {
   "codemirror_mode": {
    "name": "ipython",
    "version": 3
   },
   "file_extension": ".py",
   "mimetype": "text/x-python",
   "name": "python",
   "nbconvert_exporter": "python",
   "pygments_lexer": "ipython3",
   "version": "3.12.0"
  }
 },
 "nbformat": 4,
 "nbformat_minor": 2
}
